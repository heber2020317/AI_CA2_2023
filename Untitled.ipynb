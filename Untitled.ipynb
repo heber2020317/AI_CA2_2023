{
 "cells": [
  {
   "cell_type": "code",
   "execution_count": 1,
   "id": "aa305828",
   "metadata": {},
   "outputs": [],
   "source": [
    "#import the heap queue module for the operations\n",
    "import heapq\n",
    "\n",
    "#define the graph and the starting vertex that we want to use for the calculations\n",
    "def calculate_distances(graph, starting_vertex):\n",
    "    distances = {vertex: float('infinity') for vertex in graph}\n",
    "    distances[starting_vertex] = 0 #starting point is set to always 0\n",
    "\n",
    "    #initialize priority queue\n",
    "    pq = [(0, starting_vertex)]\n",
    "    while len(pq) > 0: #a loop that runs until queue is empty\n",
    "        current_distance, current_vertex = heapq.heappop(pq) \n",
    "\n",
    "        #condition to handle the flow of the operations\n",
    "        if current_distance > distances[current_vertex]:\n",
    "            continue"
   ]
  },
  {
   "cell_type": "code",
   "execution_count": 2,
   "id": "ae567c91",
   "metadata": {},
   "outputs": [
    {
     "ename": "SyntaxError",
     "evalue": "invalid syntax (751509446.py, line 11)",
     "output_type": "error",
     "traceback": [
      "\u001b[1;36m  Input \u001b[1;32mIn [2]\u001b[1;36m\u001b[0m\n\u001b[1;33m    return distances\u001b[0m\n\u001b[1;37m    ^\u001b[0m\n\u001b[1;31mSyntaxError\u001b[0m\u001b[1;31m:\u001b[0m invalid syntax\n"
     ]
    }
   ],
   "source": [
    "    #loop throw the neighbor vertex\n",
    "    for neighbor, weight in graph[current_vertex].items():\n",
    "            distance = current_distance + weight\n",
    "\n",
    "            #calculate distance to the neighbor and choosing the shorter\n",
    "            if distance < distances[neighbor]:\n",
    "                distances[neighbor] = distance #update distance \n",
    "                heapq.heappush(pq, (distance, neighbor) #continue to explore\n",
    "    \n",
    "    #displays the distance path used to get to the final point\n",
    "    return distances"
   ]
  },
  {
   "cell_type": "code",
   "execution_count": 3,
   "id": "ded82ffd",
   "metadata": {},
   "outputs": [],
   "source": [
    "#dictionary to represent our weighted graph\n",
    "my_graph = {\n",
    "    'A': {'B': 1, 'H': 2, 'C': 5},\n",
    "    'B': {'A': 1, 'D': 4, 'C': 2},\n",
    "    'C': {'A': 5, 'B': 2, 'G': 1},\n",
    "    'D': {'B': 4, 'L': 7, 'F': 7, 'E': 4},\n",
    "    'E': {'D': 4, 'F': 3, 'W': 6},\n",
    "    'F': {'D': 7, 'E': 3, 'G': 2},\n",
    "    'G': {'C': 1, 'L': 3, 'F': 2},\n",
    "    'H': {'A': 2, 'K': 5, 'J': 9},\n",
    "    'J': {'H': 9, 'K': 3, 'N': 6},\n",
    "    'K': {'H': 5, 'J': 3, 'L': 5},\n",
    "    'L': {'K': 5, 'N': 3, 'G': 3, 'D': 7, 'W': 8, 'V': 10, 'M': 4},\n",
    "    'M': {'L': 4, 'P': 2, 'Q': 10},\n",
    "    'N': {'J': 6, 'L': 3, 'S': 7, 'P': 4},\n",
    "    'P': {'N': 4, 'M': 2, 'R': 5},\n",
    "    'Q': {'M': 10, 'W': 4, 'S': 8},\n",
    "    'R': {'P': 5, 'S': 4, 'T': 3},\n",
    "    'S': {'N': 7, 'Q': 8, 'V': 6, 'U': 2, 'T': 4, 'R': 4},\n",
    "    'T': {'R': 3, 'S': 4, 'U': 1},\n",
    "    'U': {'V': 3, 'S': 2, 'T': 1},\n",
    "    'V': {'W': 5, 'U': 3, 'L': 10, 'S': 6},\n",
    "    'W': {'E': 6, 'L': 8, 'Q': 4, 'V': 5}\n",
    "}"
   ]
  },
  {
   "cell_type": "code",
   "execution_count": 4,
   "id": "9a474b58",
   "metadata": {},
   "outputs": [],
   "source": [
    "starting_node = 'A'\n",
    "ending_node = 'S'"
   ]
  },
  {
   "cell_type": "code",
   "execution_count": 5,
   "id": "2a57131a",
   "metadata": {},
   "outputs": [
    {
     "ename": "TypeError",
     "evalue": "calculate_distances() takes 2 positional arguments but 3 were given",
     "output_type": "error",
     "traceback": [
      "\u001b[1;31m---------------------------------------------------------------------------\u001b[0m",
      "\u001b[1;31mTypeError\u001b[0m                                 Traceback (most recent call last)",
      "Input \u001b[1;32mIn [5]\u001b[0m, in \u001b[0;36m<cell line: 1>\u001b[1;34m()\u001b[0m\n\u001b[1;32m----> 1\u001b[0m shortest_path, shortest_distance \u001b[38;5;241m=\u001b[39m \u001b[43mcalculate_distances\u001b[49m\u001b[43m(\u001b[49m\u001b[43mmy_graph\u001b[49m\u001b[43m,\u001b[49m\u001b[43m \u001b[49m\u001b[43mstarting_node\u001b[49m\u001b[43m,\u001b[49m\u001b[43m \u001b[49m\u001b[43mending_node\u001b[49m\u001b[43m)\u001b[49m\n\u001b[0;32m      2\u001b[0m \u001b[38;5;28mprint\u001b[39m(\u001b[38;5;124mf\u001b[39m\u001b[38;5;124m\"\u001b[39m\u001b[38;5;124mThe shortest path from \u001b[39m\u001b[38;5;132;01m{\u001b[39;00mstarting_node\u001b[38;5;132;01m}\u001b[39;00m\u001b[38;5;124m to \u001b[39m\u001b[38;5;132;01m{\u001b[39;00mending_node\u001b[38;5;132;01m}\u001b[39;00m\u001b[38;5;124m is: \u001b[39m\u001b[38;5;132;01m{\u001b[39;00mshortest_path\u001b[38;5;132;01m}\u001b[39;00m\u001b[38;5;124m;\u001b[39m\u001b[38;5;124m\"\u001b[39m)\n\u001b[0;32m      3\u001b[0m \u001b[38;5;28mprint\u001b[39m(\u001b[38;5;124mf\u001b[39m\u001b[38;5;124m\"\u001b[39m\u001b[38;5;124mwhere the distance is: \u001b[39m\u001b[38;5;132;01m{\u001b[39;00mshortest_distance[ending_node]\u001b[38;5;132;01m}\u001b[39;00m\u001b[38;5;124m.\u001b[39m\u001b[38;5;124m\"\u001b[39m)\n",
      "\u001b[1;31mTypeError\u001b[0m: calculate_distances() takes 2 positional arguments but 3 were given"
     ]
    }
   ],
   "source": [
    "shortest_path, shortest_distance = calculate_distances(my_graph, starting_node, ending_node)\n",
    "print(f\"The shortest path from {starting_node} to {ending_node} is: {shortest_path};\")\n",
    "print(f\"where the distance is: {shortest_distance[ending_node]}.\")"
   ]
  },
  {
   "cell_type": "code",
   "execution_count": 6,
   "id": "0ba6e7f4",
   "metadata": {},
   "outputs": [
    {
     "name": "stdout",
     "output_type": "stream",
     "text": [
      "The shortest distances from A to S are: 17.\n"
     ]
    }
   ],
   "source": [
    "# Import the heap queue module for the operations\n",
    "import heapq\n",
    "\n",
    "# Define the graph and the starting vertex that we want to use for the calculations\n",
    "def calculate_distances(graph, starting_vertex, ending_vertex):\n",
    "    distances = {vertex: float('infinity') for vertex in graph}\n",
    "    distances[starting_vertex] = 0  # Starting point is set to always 0\n",
    "\n",
    "    # Initialize priority queue\n",
    "    pq = [(0, starting_vertex)]\n",
    "    while len(pq) > 0:  # A loop that runs until the queue is empty\n",
    "        current_distance, current_vertex = heapq.heappop(pq)\n",
    "\n",
    "        # Condition to handle the flow of the operations\n",
    "        if current_distance > distances[current_vertex]:\n",
    "            continue\n",
    "\n",
    "        # Loop through the neighbor vertices\n",
    "        for neighbor, weight in graph[current_vertex].items():\n",
    "            distance = current_distance + weight\n",
    "\n",
    "            # Calculate distance to the neighbor and choosing the shorter\n",
    "            if distance < distances[neighbor]:\n",
    "                distances[neighbor] = distance  # Update distance\n",
    "                heapq.heappush(pq, (distance, neighbor))  # Continue to explore\n",
    "\n",
    "    # Displays the distance path used to get to the final point\n",
    "    return distances\n",
    "\n",
    "# Dictionary to represent our weighted graph\n",
    "my_graph = {\n",
    "    'A': {'B': 1, 'H': 2, 'C': 5},\n",
    "    'B': {'A': 1, 'D': 4, 'C': 2},\n",
    "    'C': {'A': 5, 'B': 2, 'G': 1},\n",
    "    'D': {'B': 4, 'L': 7, 'F': 7, 'E': 4},\n",
    "    'E': {'D': 4, 'F': 3, 'W': 6},\n",
    "    'F': {'D': 7, 'E': 3, 'G': 2},\n",
    "    'G': {'C': 1, 'L': 3, 'F': 2},\n",
    "    'H': {'A': 2, 'K': 5, 'J': 9},\n",
    "    'J': {'H': 9, 'K': 3, 'N': 6},\n",
    "    'K': {'H': 5, 'J': 3, 'L': 5},\n",
    "    'L': {'K': 5, 'N': 3, 'G': 3, 'D': 7, 'W': 8, 'V': 10, 'M': 4},\n",
    "    'M': {'L': 4, 'P': 2, 'Q': 10},\n",
    "    'N': {'J': 6, 'L': 3, 'S': 7, 'P': 4},\n",
    "    'P': {'N': 4, 'M': 2, 'R': 5},\n",
    "    'Q': {'M': 10, 'W': 4, 'S': 8},\n",
    "    'R': {'P': 5, 'S': 4, 'T': 3},\n",
    "    'S': {'N': 7, 'Q': 8, 'V': 6, 'U': 2, 'T': 4, 'R': 4},\n",
    "    'T': {'R': 3, 'S': 4, 'U': 1},\n",
    "    'U': {'V': 3, 'S': 2, 'T': 1},\n",
    "    'V': {'W': 5, 'U': 3, 'L': 10, 'S': 6},\n",
    "    'W': {'E': 6, 'L': 8, 'Q': 4, 'V': 5}\n",
    "}\n",
    "\n",
    "starting_node = 'A'\n",
    "ending_node = 'S'\n",
    "\n",
    "shortest_distances = calculate_distances(my_graph, starting_node, ending_node)\n",
    "print(f\"The shortest distances from {starting_node} to {ending_node} are: {shortest_distances[ending_node]}.\")\n"
   ]
  },
  {
   "cell_type": "code",
   "execution_count": 8,
   "id": "c87004d9",
   "metadata": {},
   "outputs": [
    {
     "ename": "KeyError",
     "evalue": "'H'",
     "output_type": "error",
     "traceback": [
      "\u001b[1;31m---------------------------------------------------------------------------\u001b[0m",
      "\u001b[1;31mKeyError\u001b[0m                                  Traceback (most recent call last)",
      "Input \u001b[1;32mIn [8]\u001b[0m, in \u001b[0;36m<cell line: 47>\u001b[1;34m()\u001b[0m\n\u001b[0;32m     40\u001b[0m my_graph \u001b[38;5;241m=\u001b[39m {\n\u001b[0;32m     41\u001b[0m     \u001b[38;5;124m'\u001b[39m\u001b[38;5;124mA\u001b[39m\u001b[38;5;124m'\u001b[39m: {\u001b[38;5;124m'\u001b[39m\u001b[38;5;124mB\u001b[39m\u001b[38;5;124m'\u001b[39m: \u001b[38;5;241m1\u001b[39m, \u001b[38;5;124m'\u001b[39m\u001b[38;5;124mH\u001b[39m\u001b[38;5;124m'\u001b[39m: \u001b[38;5;241m2\u001b[39m, \u001b[38;5;124m'\u001b[39m\u001b[38;5;124mC\u001b[39m\u001b[38;5;124m'\u001b[39m: \u001b[38;5;241m5\u001b[39m},\n\u001b[0;32m     42\u001b[0m     \u001b[38;5;124m'\u001b[39m\u001b[38;5;124mB\u001b[39m\u001b[38;5;124m'\u001b[39m: {\u001b[38;5;124m'\u001b[39m\u001b[38;5;124mA\u001b[39m\u001b[38;5;124m'\u001b[39m: \u001b[38;5;241m1\u001b[39m, \u001b[38;5;124m'\u001b[39m\u001b[38;5;124mD\u001b[39m\u001b[38;5;124m'\u001b[39m: \u001b[38;5;241m4\u001b[39m, \u001b[38;5;124m'\u001b[39m\u001b[38;5;124mC\u001b[39m\u001b[38;5;124m'\u001b[39m: \u001b[38;5;241m2\u001b[39m},\n\u001b[0;32m     43\u001b[0m     \u001b[38;5;66;03m# ... (rest of the graph)\u001b[39;00m\n\u001b[0;32m     44\u001b[0m }\n\u001b[0;32m     46\u001b[0m start_node, end_node \u001b[38;5;241m=\u001b[39m \u001b[38;5;124m'\u001b[39m\u001b[38;5;124mA\u001b[39m\u001b[38;5;124m'\u001b[39m, \u001b[38;5;124m'\u001b[39m\u001b[38;5;124mS\u001b[39m\u001b[38;5;124m'\u001b[39m\n\u001b[1;32m---> 47\u001b[0m distances, previous_nodes \u001b[38;5;241m=\u001b[39m \u001b[43mcalculate_distances\u001b[49m\u001b[43m(\u001b[49m\u001b[43mmy_graph\u001b[49m\u001b[43m,\u001b[49m\u001b[43m \u001b[49m\u001b[43mstart_node\u001b[49m\u001b[43m)\u001b[49m\n\u001b[0;32m     48\u001b[0m shortest_path \u001b[38;5;241m=\u001b[39m reconstruct_path(previous_nodes, end_node)\n\u001b[0;32m     50\u001b[0m \u001b[38;5;28mprint\u001b[39m(\u001b[38;5;124mf\u001b[39m\u001b[38;5;124m\"\u001b[39m\u001b[38;5;124mShortest path from \u001b[39m\u001b[38;5;132;01m{\u001b[39;00mstart_node\u001b[38;5;132;01m}\u001b[39;00m\u001b[38;5;124m to \u001b[39m\u001b[38;5;132;01m{\u001b[39;00mend_node\u001b[38;5;132;01m}\u001b[39;00m\u001b[38;5;124m: \u001b[39m\u001b[38;5;132;01m{\u001b[39;00mshortest_path\u001b[38;5;132;01m}\u001b[39;00m\u001b[38;5;124m\"\u001b[39m)\n",
      "Input \u001b[1;32mIn [8]\u001b[0m, in \u001b[0;36mcalculate_distances\u001b[1;34m(graph, start_vertex)\u001b[0m\n\u001b[0;32m     20\u001b[0m distance \u001b[38;5;241m=\u001b[39m current_distance \u001b[38;5;241m+\u001b[39m weight\n\u001b[0;32m     22\u001b[0m \u001b[38;5;66;03m# Calculate distance to the neighbor and choose the shorter path\u001b[39;00m\n\u001b[1;32m---> 23\u001b[0m \u001b[38;5;28;01mif\u001b[39;00m distance \u001b[38;5;241m<\u001b[39m \u001b[43mdistances\u001b[49m\u001b[43m[\u001b[49m\u001b[43mneighbor\u001b[49m\u001b[43m]\u001b[49m:\n\u001b[0;32m     24\u001b[0m     distances[neighbor] \u001b[38;5;241m=\u001b[39m distance\n\u001b[0;32m     25\u001b[0m     previous_nodes[neighbor] \u001b[38;5;241m=\u001b[39m current_vertex\n",
      "\u001b[1;31mKeyError\u001b[0m: 'H'"
     ]
    }
   ],
   "source": [
    "import heapq\n",
    "\n",
    "def calculate_distances(graph, start_vertex):\n",
    "    # Initialize distances to infinity for all vertices\n",
    "    distances = {vertex: float('infinity') for vertex in graph}\n",
    "    distances[start_vertex] = 0  # Starting point has distance 0\n",
    "    pq = [(0, start_vertex)]  # Priority queue to store vertices and their distances\n",
    "    previous_nodes = {vertex: None for vertex in graph}  # Keep track of previous nodes in the path\n",
    "\n",
    "    while pq:\n",
    "        # Pop the vertex with the shortest distance from the priority queue\n",
    "        current_distance, current_vertex = heapq.heappop(pq)\n",
    "\n",
    "        # Skip if the current path is longer than the known distance\n",
    "        if current_distance > distances[current_vertex]:\n",
    "            continue\n",
    "\n",
    "        # Loop through the neighbor vertices\n",
    "        for neighbor, weight in graph[current_vertex].items():\n",
    "            distance = current_distance + weight\n",
    "\n",
    "            # Calculate distance to the neighbor and choose the shorter path\n",
    "            if distance < distances[neighbor]:\n",
    "                distances[neighbor] = distance\n",
    "                previous_nodes[neighbor] = current_vertex\n",
    "                heapq.heappush(pq, (distance, neighbor))  # Continue to explore\n",
    "\n",
    "    return distances, previous_nodes\n",
    "\n",
    "def reconstruct_path(previous_nodes, end_vertex):\n",
    "    # Reconstruct the path from the end vertex to the start\n",
    "    path = []\n",
    "    current_vertex = end_vertex\n",
    "    while current_vertex is not None:\n",
    "        path.insert(0, current_vertex)\n",
    "        current_vertex = previous_nodes[current_vertex]\n",
    "    return path\n",
    "\n",
    "# Example usage with a graph\n",
    "my_graph = {\n",
    "    'A': {'B': 1, 'H': 2, 'C': 5},\n",
    "    'B': {'A': 1, 'D': 4, 'C': 2},\n",
    "    # ... (rest of the graph)\n",
    "}\n",
    "\n",
    "start_node, end_node = 'A', 'S'\n",
    "distances, previous_nodes = calculate_distances(my_graph, start_node)\n",
    "shortest_path = reconstruct_path(previous_nodes, end_node)\n",
    "\n",
    "print(f\"Shortest path from {start_node} to {end_node}: {shortest_path}\")\n",
    "print(f\"Distance: {distances[end_node]}.\")\n"
   ]
  },
  {
   "cell_type": "code",
   "execution_count": null,
   "id": "ccffbecd",
   "metadata": {},
   "outputs": [],
   "source": []
  }
 ],
 "metadata": {
  "kernelspec": {
   "display_name": "Python 3 (ipykernel)",
   "language": "python",
   "name": "python3"
  },
  "language_info": {
   "codemirror_mode": {
    "name": "ipython",
    "version": 3
   },
   "file_extension": ".py",
   "mimetype": "text/x-python",
   "name": "python",
   "nbconvert_exporter": "python",
   "pygments_lexer": "ipython3",
   "version": "3.9.12"
  }
 },
 "nbformat": 4,
 "nbformat_minor": 5
}
